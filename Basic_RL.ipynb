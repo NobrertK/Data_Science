{
 "cells": [
  {
   "cell_type": "markdown",
   "id": "43ab910c-4b18-4ecf-9d32-2a86303e52d4",
   "metadata": {},
   "source": [
    "# Libraries 📚"
   ]
  },
  {
   "cell_type": "markdown",
   "id": "33321154-5017-4e69-86e3-4d6d74024143",
   "metadata": {},
   "source": [
    "**WARNING!**\n",
    "\n",
    "- Please install stable_baselines3 before running next cell.\n",
    "- You can install it using !pip method."
   ]
  },
  {
   "cell_type": "code",
   "execution_count": null,
   "id": "bd932faf-b2ba-49be-b413-614164684086",
   "metadata": {},
   "outputs": [],
   "source": [
    "# Stable-baseline3 (use only once)\n",
    "!pip install stable-baseline3[extra]"
   ]
  },
  {
   "cell_type": "code",
   "execution_count": null,
   "id": "13d6a873-8377-4d4f-aec8-c2c866b50d87",
   "metadata": {},
   "outputs": [],
   "source": [
    "import os\n",
    "import gym\n",
    "import warnings\n",
    "\n",
    "from stable_baselines3 import PPO\n",
    "from stable_baselines3.common.vec_env import DummyVecEnv\n",
    "from stable_baselines3.common.evaluation import evaluate_policy\n",
    "\n",
    "warnings.filterwarnings('ignore')"
   ]
  },
  {
   "cell_type": "markdown",
   "id": "dbff632b-4514-4a46-844b-ae2a1d345e69",
   "metadata": {},
   "source": [
    "# Setup Environment"
   ]
  },
  {
   "cell_type": "code",
   "execution_count": null,
   "id": "7024751d-f344-4779-8fe5-ff9fa64401e8",
   "metadata": {},
   "outputs": [],
   "source": [
    "# Setup CartPole env\n",
    "# Gym.make create our env with CartPole\n",
    "\n",
    "environment_name = 'CartPole-v0'\n",
    "env = gym.make(environment_name)"
   ]
  },
  {
   "cell_type": "markdown",
   "id": "3f22c889-0ae3-45e9-95e1-6f9026b52a0f",
   "metadata": {},
   "source": [
    "# Test Environment"
   ]
  },
  {
   "cell_type": "code",
   "execution_count": null,
   "id": "98a1609b-2fd5-47dd-909f-49b2e6590c0b",
   "metadata": {},
   "outputs": [],
   "source": [
    "# Episodes - number of tests of the environment without learning\n",
    "# Done - false if env still running, true if done\n",
    "# Reward, score - representation of the results during the test\n",
    "\n",
    "episodes = 20\n",
    "for episode in range(1, episodes+1):\n",
    "    state = env.reset()\n",
    "    done = False\n",
    "    score = 0\n",
    "    \n",
    "    while not done:\n",
    "        env.render()\n",
    "        action = env.action_space.sample()\n",
    "        n_state, reward, done, info = env.step(action)\n",
    "        score += reward\n",
    "    print('Episode: {}, score {}'.format(episode, score))\n",
    "env.close()"
   ]
  },
  {
   "cell_type": "markdown",
   "id": "f03f8479-f32c-40f8-99b3-7deb92028620",
   "metadata": {},
   "source": [
    "# Setup Important Configuration"
   ]
  },
  {
   "cell_type": "code",
   "execution_count": null,
   "id": "2acc21f2-fa82-4a01-bd01-1f889f926575",
   "metadata": {},
   "outputs": [],
   "source": [
    "# Setup path to log\n",
    "\n",
    "log_path = os.path.join('Training', 'Logs')\n",
    "log_path"
   ]
  },
  {
   "cell_type": "markdown",
   "id": "c103507e-ac48-46cf-9026-237e77b0a330",
   "metadata": {},
   "source": [
    "# Start Learning"
   ]
  },
  {
   "cell_type": "code",
   "execution_count": null,
   "id": "083ca466-8bae-40aa-be9f-622d74c6a69a",
   "metadata": {},
   "outputs": [],
   "source": [
    "# DummyVecEnv - it creates many environments at the same time, thanks to which learning is faster\n",
    "# PPO - one of the reinforcement learning algorithms\n",
    "\n",
    "env = gym.make(environment_name)\n",
    "env = DummyVecEnv([lambda: env])\n",
    "model = PPO('MlpPolicy', env, verbose=1, tensorboard_log=log_path)\n",
    "\n",
    "# Run learning\n",
    "\n",
    "model.learn(total_timesteps=20000)"
   ]
  },
  {
   "cell_type": "code",
   "execution_count": null,
   "id": "2789baff-6bc6-4eee-b6bf-b00bb98d09de",
   "metadata": {},
   "outputs": [],
   "source": [
    "# Run env, how model learn aftet 20000 sample\n",
    "\n",
    "evaluate_policy(model, env, n_eval_episodes=10, render=True)"
   ]
  },
  {
   "cell_type": "code",
   "execution_count": null,
   "id": "d78ff57b-263c-4d46-ae35-79d7addeb9eb",
   "metadata": {},
   "outputs": [],
   "source": [
    "# Close env\n",
    "\n",
    "env.close()"
   ]
  }
 ],
 "metadata": {
  "kernelspec": {
   "display_name": "Python 3 (ipykernel)",
   "language": "python",
   "name": "python3"
  },
  "language_info": {
   "codemirror_mode": {
    "name": "ipython",
    "version": 3
   },
   "file_extension": ".py",
   "mimetype": "text/x-python",
   "name": "python",
   "nbconvert_exporter": "python",
   "pygments_lexer": "ipython3",
   "version": "3.10.5"
  }
 },
 "nbformat": 4,
 "nbformat_minor": 5
}
